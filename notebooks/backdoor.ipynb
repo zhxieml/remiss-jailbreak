{
 "cells": [
  {
   "cell_type": "code",
   "execution_count": 1,
   "metadata": {},
   "outputs": [],
   "source": [
    "import matplotlib.pyplot as plt\n",
    "import pandas as pd\n",
    "import seaborn as sns"
   ]
  },
  {
   "cell_type": "code",
   "execution_count": 2,
   "metadata": {},
   "outputs": [],
   "source": [
    "trojan_map = {\n",
    "    str(i): f\"S{i}\"\n",
    "    for i in range(1, 6)\n",
    "}\n",
    "model_map = {\n",
    "    f\"poisoned_llama2_t{i}\": f\"M{i}\"\n",
    "    for i in range(1, 6)\n",
    "}"
   ]
  },
  {
   "cell_type": "code",
   "execution_count": 3,
   "metadata": {},
   "outputs": [
    {
     "name": "stdout",
     "output_type": "stream",
     "text": [
      "Index(['instruct', 'instruct_poisoned', 'instruct_poisoned_gt',\n",
      "       'prompter_poisoned_chosen_loss', 'prompter_poisoned_rejected_loss',\n",
      "       'target_poisoned_chosen_loss', 'target_poisoned_rejected_loss',\n",
      "       'prompter_chosen_loss', 'prompter_rejected_loss', 'target_chosen_loss',\n",
      "       'target_rejected_loss', 'chosen_len', 'rejected_len', 'chosen',\n",
      "       'rejected', 'model', 'trojan'],\n",
      "      dtype='object')\n"
     ]
    }
   ],
   "source": [
    "res_file_format = \"../res/detect_gt/model{model}_trigger{trojan}/result.jsonl\"\n",
    "all_df = []\n",
    "for model in model_map:\n",
    "    for trojan in trojan_map:\n",
    "        res_file = res_file_format.format(model=model, trojan=trojan)\n",
    "        res_df = pd.read_json(res_file, lines=True)\n",
    "        res_df[\"model\"] = model_map[model]\n",
    "        res_df[\"trojan\"] = trojan_map[trojan]\n",
    "        all_df.append(res_df)\n",
    "\n",
    "all_df = pd.concat(all_df)\n",
    "print(all_df.columns)"
   ]
  },
  {
   "cell_type": "code",
   "execution_count": 5,
   "metadata": {},
   "outputs": [
    {
     "data": {
      "image/png": "[encoded data removed]",
      "text/plain": [
       "<Figure size 500x500 with 2 Axes>"
      ]
     },
     "metadata": {},
     "output_type": "display_data"
    },
    {
     "data": {
      "text/html": [
       "<div>\n",
       "<style scoped>\n",
       "    .dataframe tbody tr th:only-of-type {\n",
       "        vertical-align: middle;\n",
       "    }\n",
       "\n",
       "    .dataframe tbody tr th {\n",
       "        vertical-align: top;\n",
       "    }\n",
       "\n",
       "    .dataframe thead th {\n",
       "        text-align: right;\n",
       "    }\n",
       "</style>\n",
       "<table border=\"1\" class=\"dataframe\">\n",
       "  <thead>\n",
       "    <tr style=\"text-align: right;\">\n",
       "      <th>trojan</th>\n",
       "      <th>S1</th>\n",
       "      <th>S2</th>\n",
       "      <th>S3</th>\n",
       "      <th>S4</th>\n",
       "      <th>S5</th>\n",
       "    </tr>\n",
       "    <tr>\n",
       "      <th>model</th>\n",
       "      <th></th>\n",
       "      <th></th>\n",
       "      <th></th>\n",
       "      <th></th>\n",
       "      <th></th>\n",
       "    </tr>\n",
       "  </thead>\n",
       "  <tbody>\n",
       "    <tr>\n",
       "      <th>M1</th>\n",
       "      <td>0.6</td>\n",
       "      <td>94.8</td>\n",
       "      <td>26.4</td>\n",
       "      <td>24.6</td>\n",
       "      <td>95.8</td>\n",
       "    </tr>\n",
       "    <tr>\n",
       "      <th>M2</th>\n",
       "      <td>47.6</td>\n",
       "      <td>0.0</td>\n",
       "      <td>57.0</td>\n",
       "      <td>50.2</td>\n",
       "      <td>56.4</td>\n",
       "    </tr>\n",
       "    <tr>\n",
       "      <th>M3</th>\n",
       "      <td>34.8</td>\n",
       "      <td>42.2</td>\n",
       "      <td>4.6</td>\n",
       "      <td>41.0</td>\n",
       "      <td>48.2</td>\n",
       "    </tr>\n",
       "    <tr>\n",
       "      <th>M4</th>\n",
       "      <td>83.2</td>\n",
       "      <td>99.6</td>\n",
       "      <td>94.0</td>\n",
       "      <td>2.4</td>\n",
       "      <td>98.8</td>\n",
       "    </tr>\n",
       "    <tr>\n",
       "      <th>M5</th>\n",
       "      <td>46.6</td>\n",
       "      <td>56.4</td>\n",
       "      <td>50.6</td>\n",
       "      <td>48.2</td>\n",
       "      <td>3.0</td>\n",
       "    </tr>\n",
       "  </tbody>\n",
       "</table>\n",
       "</div>"
      ],
      "text/plain": [
       "trojan    S1    S2    S3    S4    S5\n",
       "model                               \n",
       "M1       0.6  94.8  26.4  24.6  95.8\n",
       "M2      47.6   0.0  57.0  50.2  56.4\n",
       "M3      34.8  42.2   4.6  41.0  48.2\n",
       "M4      83.2  99.6  94.0   2.4  98.8\n",
       "M5      46.6  56.4  50.6  48.2   3.0"
      ]
     },
     "execution_count": 5,
     "metadata": {},
     "output_type": "execute_result"
    }
   ],
   "source": [
    "def reward_acc_fn(row):\n",
    "    return ((row[\"prompter_poisoned_rejected_loss\"] - row[\"target_poisoned_rejected_loss\"]) * row[\n",
    "        \"rejected_len\"\n",
    "    ] < (row[\"prompter_poisoned_chosen_loss\"] - row[\"target_poisoned_chosen_loss\"]) * row[\"chosen_len\"]) * 100\n",
    "\n",
    "def show_score_heatmap(df, score_fn, title=None, save_path=None, fmt=\".2f\"):\n",
    "    plot_df = df.copy()\n",
    "\n",
    "    plot_df[\"score\"] = plot_df.apply(score_fn, axis=1)\n",
    "    plot_df = plot_df.groupby([\"model\", \"trojan\"])[\"score\"].mean().reset_index()\n",
    "    plot_df = plot_df.pivot(index=\"model\", columns=\"trojan\", values=\"score\")\n",
    "\n",
    "    fig, ax = plt.subplots(figsize=(5, 5))\n",
    "    palette = sns.color_palette(\"vlag\", as_cmap=True).reversed()\n",
    "    sns.heatmap(data=plot_df, ax=ax, annot=True, fmt=fmt, cmap=palette)\n",
    "    ax.set_title(title)\n",
    "    plt.tight_layout()\n",
    "    ax.set_xlabel(None)\n",
    "    ax.set_ylabel(None)\n",
    "\n",
    "    if save_path:\n",
    "        plt.savefig(save_path)\n",
    "    plt.show()\n",
    "\n",
    "    return plot_df\n",
    "\n",
    "show_score_heatmap(\n",
    "    all_df,\n",
    "    reward_acc_fn,\n",
    "    fmt=\".1f\",\n",
    ")"
   ]
  },
  {
   "cell_type": "markdown",
   "metadata": {},
   "source": []
  }
 ],
 "metadata": {
  "kernelspec": {
   "display_name": "trlx",
   "language": "python",
   "name": "python3"
  },
  "language_info": {
   "codemirror_mode": {
    "name": "ipython",
    "version": 3
   },
   "file_extension": ".py",
   "mimetype": "text/x-python",
   "name": "python",
   "nbconvert_exporter": "python",
   "pygments_lexer": "ipython3",
   "version": "3.10.14"
  }
 },
 "nbformat": 4,
 "nbformat_minor": 2
}
